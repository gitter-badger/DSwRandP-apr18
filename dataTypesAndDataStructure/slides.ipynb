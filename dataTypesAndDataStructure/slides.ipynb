{
 "cells": [
  {
   "cell_type": "code",
   "execution_count": 1,
   "metadata": {
    "run_control": {
     "frozen": false,
     "read_only": false
    }
   },
   "outputs": [
    {
     "data": {
      "text/html": [
       "'D:/GitHub/DSwRandP-apr18/dataTypesAndDataStructure/dataTypesAndDataStructure'"
      ],
      "text/latex": [
       "'D:/GitHub/DSwRandP-apr18/dataTypesAndDataStructure/dataTypesAndDataStructure'"
      ],
      "text/markdown": [
       "'D:/GitHub/DSwRandP-apr18/dataTypesAndDataStructure/dataTypesAndDataStructure'"
      ],
      "text/plain": [
       "[1] \"D:/GitHub/DSwRandP-apr18/dataTypesAndDataStructure/dataTypesAndDataStructure\""
      ]
     },
     "metadata": {},
     "output_type": "display_data"
    }
   ],
   "source": [
    "getwd()"
   ]
  },
  {
   "cell_type": "code",
   "execution_count": null,
   "metadata": {},
   "outputs": [],
   "source": []
  }
 ],
 "metadata": {
  "hide_input": false,
  "kernelspec": {
   "display_name": "R",
   "language": "R",
   "name": "ir"
  },
  "language_info": {
   "codemirror_mode": "r",
   "file_extension": ".r",
   "mimetype": "text/x-r-source",
   "name": "R",
   "pygments_lexer": "r",
   "version": "3.3.2"
  },
  "nav_menu": {},
  "toc": {
   "navigate_menu": true,
   "number_sections": true,
   "sideBar": true,
   "threshold": 6,
   "toc_cell": false,
   "toc_section_display": "block",
   "toc_window_display": false
  }
 },
 "nbformat": 4,
 "nbformat_minor": 2
}
