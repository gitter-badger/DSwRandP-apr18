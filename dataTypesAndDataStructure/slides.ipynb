{
 "cells": [
  {
   "cell_type": "code",
   "execution_count": 12,
   "metadata": {
    "run_control": {
     "frozen": false,
     "read_only": false
    }
   },
   "outputs": [
    {
     "data": {
      "text/html": [
       "'D:/GitHub/DSwRandP-apr18/dataTypesAndDataStructure'"
      ],
      "text/latex": [
       "'D:/GitHub/DSwRandP-apr18/dataTypesAndDataStructure'"
      ],
      "text/markdown": [
       "'D:/GitHub/DSwRandP-apr18/dataTypesAndDataStructure'"
      ],
      "text/plain": [
       "[1] \"D:/GitHub/DSwRandP-apr18/dataTypesAndDataStructure\""
      ]
     },
     "metadata": {},
     "output_type": "display_data"
    }
   ],
   "source": [
    "getwd()"
   ]
  },
  {
   "cell_type": "code",
   "execution_count": 2,
   "metadata": {
    "run_control": {
     "frozen": false,
     "read_only": false
    }
   },
   "outputs": [
    {
     "name": "stdout",
     "output_type": "stream",
     "text": [
      "'data.frame':\t998 obs. of  8 variables:\n",
      " $ Serial.No.    : int  1 2 3 4 5 6 7 8 9 10 ...\n",
      " $ Name          : Factor w/ 672 levels \"Aaron\",\"Abdul-L\",..: 115 86 227 260 248 399 232 4 549 5 ...\n",
      " $ City          : Factor w/ 759 levels \"Aardal\",\"Aasgaardstrand\",..: 67 523 37 216 132 438 530 428 676 157 ...\n",
      " $ Gender        : Factor w/ 2 levels \"Female\",\"Male\": 1 1 1 1 2 2 2 2 1 2 ...\n",
      " $ Age           : Factor w/ 48 levels \"16\",\"17\",\"18\",..: 10 30 35 31 46 33 38 24 38 7 ...\n",
      " $ Discovery     : Factor w/ 3 levels \"Advertisement\",..: 3 1 1 2 2 3 3 3 1 1 ...\n",
      " $ Recommendation: Factor w/ 6 levels \"Colleague\",\"Collleagueeae\",..: 4 NA NA NA NA 4 4 4 NA NA ...\n",
      " $ Advertisement : Factor w/ 2 levels \"Facebook\",\"TV\": NA 2 1 NA NA NA NA NA 1 1 ...\n"
     ]
    }
   ],
   "source": [
    "data <- read.csv(\"data/Sample-Data.csv\")\n",
    "str(data)"
   ]
  },
  {
   "cell_type": "code",
   "execution_count": 23,
   "metadata": {
    "run_control": {
     "frozen": false,
     "read_only": false
    }
   },
   "outputs": [
    {
     "data": {
      "text/html": [
       "<strong>png:</strong> 2"
      ],
      "text/latex": [
       "\\textbf{png:} 2"
      ],
      "text/markdown": [
       "**png:** 2"
      ],
      "text/plain": [
       "png \n",
       "  2 "
      ]
     },
     "metadata": {},
     "output_type": "display_data"
    }
   ],
   "source": [
    "jpeg('plots/GenderVsCity.jpg')\n",
    "plot(as.integer(data$City),data$Gender)\n",
    "dev.off()"
   ]
  },
  {
   "cell_type": "code",
   "execution_count": 20,
   "metadata": {},
   "outputs": [
    {
     "data": {
      "text/html": [
       "<strong>png:</strong> 5"
      ],
      "text/latex": [
       "\\textbf{png:} 5"
      ],
      "text/markdown": [
       "**png:** 5"
      ],
      "text/plain": [
       "png \n",
       "  5 "
      ]
     },
     "metadata": {},
     "output_type": "display_data"
    },
    {
     "data": {
      "text/html": [
       "<strong>png:</strong> 2"
      ],
      "text/latex": [
       "\\textbf{png:} 2"
      ],
      "text/markdown": [
       "**png:** 2"
      ],
      "text/plain": [
       "png \n",
       "  2 "
      ]
     },
     "metadata": {},
     "output_type": "display_data"
    }
   ],
   "source": [
    "dev.copy(png,'plots/GenderVsCity1.png')\n",
    "plot(data$Gender,as.integer(data$City))\n",
    "dev.off()"
   ]
  },
  {
   "cell_type": "code",
   "execution_count": null,
   "metadata": {},
   "outputs": [],
   "source": []
  }
 ],
 "metadata": {
  "hide_input": false,
  "kernelspec": {
   "display_name": "R",
   "language": "R",
   "name": "ir"
  },
  "language_info": {
   "codemirror_mode": "r",
   "file_extension": ".r",
   "mimetype": "text/x-r-source",
   "name": "R",
   "pygments_lexer": "r",
   "version": "3.3.2"
  },
  "nav_menu": {},
  "toc": {
   "navigate_menu": true,
   "number_sections": true,
   "sideBar": true,
   "threshold": 6,
   "toc_cell": false,
   "toc_section_display": "block",
   "toc_window_display": false
  }
 },
 "nbformat": 4,
 "nbformat_minor": 2
}
